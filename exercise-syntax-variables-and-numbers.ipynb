{
 "cells": [
  {
   "cell_type": "markdown",
   "id": "b02fbe9f",
   "metadata": {
    "papermill": {
     "duration": 0.010183,
     "end_time": "2024-01-03T17:47:14.414093",
     "exception": false,
     "start_time": "2024-01-03T17:47:14.403910",
     "status": "completed"
    },
    "tags": []
   },
   "source": [
    "**This notebook is an exercise in the [Python](https://www.kaggle.com/learn/python) course.  You can reference the tutorial at [this link](https://www.kaggle.com/colinmorris/hello-python).**\n",
    "\n",
    "---\n"
   ]
  },
  {
   "cell_type": "markdown",
   "id": "77de75c8",
   "metadata": {
    "papermill": {
     "duration": 0.008753,
     "end_time": "2024-01-03T17:47:14.432207",
     "exception": false,
     "start_time": "2024-01-03T17:47:14.423454",
     "status": "completed"
    },
    "tags": []
   },
   "source": [
    "Welcome to your first set of Python coding problems.  If this is your first time using Kaggle Notebooks, welcome! \n",
    "\n",
    "Notebooks are composed of blocks (called \"cells\") of text and code. Each of these is editable, though you'll mainly be editing the code cells to answer some questions.\n",
    "\n",
    "To get started, try running the code cell below (by pressing the ► button, or clicking on the cell and pressing ctrl+enter on your keyboard)."
   ]
  },
  {
   "cell_type": "code",
   "execution_count": null,
   "id": "63326844",
   "metadata": {
    "papermill": {
     "duration": 0.009536,
     "end_time": "2024-01-03T17:47:14.450925",
     "exception": false,
     "start_time": "2024-01-03T17:47:14.441389",
     "status": "completed"
    },
    "tags": []
   },
   "outputs": [],
   "source": []
  },
  {
   "cell_type": "code",
   "execution_count": 1,
   "id": "d84a7a70",
   "metadata": {
    "execution": {
     "iopub.execute_input": "2024-01-03T17:47:14.472182Z",
     "iopub.status.busy": "2024-01-03T17:47:14.471273Z",
     "iopub.status.idle": "2024-01-03T17:47:14.486783Z",
     "shell.execute_reply": "2024-01-03T17:47:14.485676Z"
    },
    "papermill": {
     "duration": 0.029267,
     "end_time": "2024-01-03T17:47:14.489421",
     "exception": false,
     "start_time": "2024-01-03T17:47:14.460154",
     "status": "completed"
    },
    "tags": []
   },
   "outputs": [
    {
     "name": "stdout",
     "output_type": "stream",
     "text": [
      "You've successfully run some Python code\n",
      "Congratulations!\n",
      "I can't wait to become a pro in Python\n",
      "Everyday is a Learning Day\n"
     ]
    }
   ],
   "source": [
    "print(\"You've successfully run some Python code\")\n",
    "print(\"Congratulations!\")\n",
    "print(\"I can't wait to become a pro in Python\")\n",
    "print(\"Everyday is a Learning Day\")\n"
   ]
  },
  {
   "cell_type": "markdown",
   "id": "5f9778ba",
   "metadata": {
    "papermill": {
     "duration": 0.008866,
     "end_time": "2024-01-03T17:47:14.507349",
     "exception": false,
     "start_time": "2024-01-03T17:47:14.498483",
     "status": "completed"
    },
    "tags": []
   },
   "source": [
    "Try adding another line of code in the cell above and re-running it. \n",
    "\n",
    "Now let's get a little fancier:  Add a new code cell by clicking on an existing code cell, hitting the escape key, and then hitting the `a` or `b` key.  The `a` key will add a cell above the current cell, and `b` adds a cell below.\n",
    "\n",
    "Great! Now you know how to use Notebooks.\n",
    "\n",
    "Each hands-on exercise starts by setting up our feedback and code checking mechanism. Run the code cell below to do that. Then you'll be ready to move on to question 0."
   ]
  },
  {
   "cell_type": "code",
   "execution_count": 2,
   "id": "1dc3a667",
   "metadata": {
    "_kg_hide-input": true,
    "_kg_hide-output": true,
    "execution": {
     "iopub.execute_input": "2024-01-03T17:47:14.527975Z",
     "iopub.status.busy": "2024-01-03T17:47:14.527486Z",
     "iopub.status.idle": "2024-01-03T17:47:15.077359Z",
     "shell.execute_reply": "2024-01-03T17:47:15.075742Z"
    },
    "papermill": {
     "duration": 0.563944,
     "end_time": "2024-01-03T17:47:15.080552",
     "exception": false,
     "start_time": "2024-01-03T17:47:14.516608",
     "status": "completed"
    },
    "tags": []
   },
   "outputs": [
    {
     "name": "stdout",
     "output_type": "stream",
     "text": [
      "Setup complete! You're ready to start question 0.\n"
     ]
    }
   ],
   "source": [
    "from learntools.core import binder; binder.bind(globals())\n",
    "from learntools.python.ex1 import *\n",
    "print(\"Setup complete! You're ready to start question 0.\")"
   ]
  },
  {
   "cell_type": "markdown",
   "id": "0a66257c",
   "metadata": {
    "papermill": {
     "duration": 0.008846,
     "end_time": "2024-01-03T17:47:15.098883",
     "exception": false,
     "start_time": "2024-01-03T17:47:15.090037",
     "status": "completed"
    },
    "tags": []
   },
   "source": [
    "# 0.\n",
    "\n",
    "*This is a silly question intended as an introduction to the format we use for hands-on exercises throughout all Kaggle courses.*\n",
    "\n",
    "**What is your favorite color? **\n",
    "\n",
    "To complete this question, create a variable called `color` in the cell below with an appropriate value. The function call `q0.check()` (which we've already provided in the cell below) will check your answer."
   ]
  },
  {
   "cell_type": "code",
   "execution_count": 3,
   "id": "5dd9397f",
   "metadata": {
    "execution": {
     "iopub.execute_input": "2024-01-03T17:47:15.121048Z",
     "iopub.status.busy": "2024-01-03T17:47:15.120389Z",
     "iopub.status.idle": "2024-01-03T17:47:15.135409Z",
     "shell.execute_reply": "2024-01-03T17:47:15.133555Z"
    },
    "papermill": {
     "duration": 0.029859,
     "end_time": "2024-01-03T17:47:15.138102",
     "exception": false,
     "start_time": "2024-01-03T17:47:15.108243",
     "status": "completed"
    },
    "tags": []
   },
   "outputs": [
    {
     "name": "stdout",
     "output_type": "stream",
     "text": [
      "Blue\n"
     ]
    },
    {
     "data": {
      "application/javascript": [
       "parent.postMessage({\"jupyterEvent\": \"custom.exercise_interaction\", \"data\": {\"outcomeType\": 1, \"valueTowardsCompletion\": 0.25, \"interactionType\": 1, \"questionType\": 2, \"questionId\": \"0_ExerciseFormatTutorial\", \"learnToolsVersion\": \"0.3.4\", \"failureMessage\": \"\", \"exceptionClass\": \"\", \"trace\": \"\"}}, \"*\")"
      ],
      "text/plain": [
       "<IPython.core.display.Javascript object>"
      ]
     },
     "metadata": {},
     "output_type": "display_data"
    },
    {
     "data": {
      "text/markdown": [
       "<span style=\"color:#33cc33\">Correct:</span> What?! You got it right without needing a hint or anything? Drats. Well hey, you should still continue to the next step to get some practice asking for a hint and checking solutions. (Even though you obviously don't need any help here.)"
      ],
      "text/plain": [
       "Correct: What?! You got it right without needing a hint or anything? Drats. Well hey, you should still continue to the next step to get some practice asking for a hint and checking solutions. (Even though you obviously don't need any help here.)"
      ]
     },
     "metadata": {},
     "output_type": "display_data"
    }
   ],
   "source": [
    "# create a variable called color with an appropriate value on the line below\n",
    "# (Remember, strings in Python must be enclosed in 'single' or \"double\" quotes)\n",
    "color = \"Blue\"\n",
    "print(color)\n",
    "# Check your answer\n",
    "q0.check()"
   ]
  },
  {
   "cell_type": "markdown",
   "id": "5a3bbb9b",
   "metadata": {
    "papermill": {
     "duration": 0.009464,
     "end_time": "2024-01-03T17:47:15.157719",
     "exception": false,
     "start_time": "2024-01-03T17:47:15.148255",
     "status": "completed"
    },
    "tags": []
   },
   "source": [
    "Didn't get the right answer? How do you not even know your own favorite color?!\n",
    "\n",
    "Delete the `#` in the line below to make one of the lines run. You can choose between getting a hint or the full answer by choosing which line to remove the `#` from. \n",
    "\n",
    "Removing the `#` is called uncommenting, because it changes that line from a \"comment\" which Python doesn't run to code, which Python does run."
   ]
  },
  {
   "cell_type": "code",
   "execution_count": 4,
   "id": "4af18e85",
   "metadata": {
    "execution": {
     "iopub.execute_input": "2024-01-03T17:47:15.179602Z",
     "iopub.status.busy": "2024-01-03T17:47:15.178887Z",
     "iopub.status.idle": "2024-01-03T17:47:15.183243Z",
     "shell.execute_reply": "2024-01-03T17:47:15.182303Z"
    },
    "papermill": {
     "duration": 0.018228,
     "end_time": "2024-01-03T17:47:15.185519",
     "exception": false,
     "start_time": "2024-01-03T17:47:15.167291",
     "status": "completed"
    },
    "tags": []
   },
   "outputs": [],
   "source": [
    "#q0.hint()\n",
    "#q0.solution()"
   ]
  },
  {
   "cell_type": "markdown",
   "id": "1b74aa3a",
   "metadata": {
    "papermill": {
     "duration": 0.009566,
     "end_time": "2024-01-03T17:47:15.205275",
     "exception": false,
     "start_time": "2024-01-03T17:47:15.195709",
     "status": "completed"
    },
    "tags": []
   },
   "source": [
    "The upcoming questions work the same way. The only thing that will change are the question numbers. For the next question, you'll call `q1.check()`, `q1.hint()`, `q1.solution()`, for question 2, you'll call `q2.check()`, and so on."
   ]
  },
  {
   "cell_type": "markdown",
   "id": "9d0e4260",
   "metadata": {
    "papermill": {
     "duration": 0.010116,
     "end_time": "2024-01-03T17:47:15.226070",
     "exception": false,
     "start_time": "2024-01-03T17:47:15.215954",
     "status": "completed"
    },
    "tags": []
   },
   "source": [
    "<hr/>\n",
    "\n",
    "# 1.\n",
    "\n",
    "Complete the code below. In case it's helpful, here is the table of available arithmetic operations:\n",
    "\n",
    "\n",
    "\n",
    "| Operator     | Name           | Description                                            |\n",
    "|--------------|----------------|--------------------------------------------------------|\n",
    "| ``a + b``    | Addition       | Sum of ``a`` and ``b``                                 |\n",
    "| ``a - b``    | Subtraction    | Difference of ``a`` and ``b``                          |\n",
    "| ``a * b``    | Multiplication | Product of ``a`` and ``b``                             |\n",
    "| ``a / b``    | True division  | Quotient of ``a`` and ``b``                            |\n",
    "| ``a // b``   | Floor division | Quotient of ``a`` and ``b``, removing fractional parts |\n",
    "| ``a % b``    | Modulus        | Integer remainder after division of ``a`` by ``b``     |\n",
    "| ``a ** b``   | Exponentiation | ``a`` raised to the power of ``b``                     |\n",
    "| ``-a``       | Negation       | The negative of ``a``                                  |\n",
    "\n",
    "<span style=\"display:none\"></span>\n"
   ]
  },
  {
   "cell_type": "code",
   "execution_count": 5,
   "id": "02472aea",
   "metadata": {
    "execution": {
     "iopub.execute_input": "2024-01-03T17:47:15.249426Z",
     "iopub.status.busy": "2024-01-03T17:47:15.248682Z",
     "iopub.status.idle": "2024-01-03T17:47:15.258940Z",
     "shell.execute_reply": "2024-01-03T17:47:15.257422Z"
    },
    "papermill": {
     "duration": 0.025237,
     "end_time": "2024-01-03T17:47:15.262186",
     "exception": false,
     "start_time": "2024-01-03T17:47:15.236949",
     "status": "completed"
    },
    "tags": []
   },
   "outputs": [
    {
     "data": {
      "application/javascript": [
       "parent.postMessage({\"jupyterEvent\": \"custom.exercise_interaction\", \"data\": {\"outcomeType\": 1, \"valueTowardsCompletion\": 0.25, \"interactionType\": 1, \"questionType\": 1, \"questionId\": \"1_CircleArea\", \"learnToolsVersion\": \"0.3.4\", \"failureMessage\": \"\", \"exceptionClass\": \"\", \"trace\": \"\"}}, \"*\")"
      ],
      "text/plain": [
       "<IPython.core.display.Javascript object>"
      ]
     },
     "metadata": {},
     "output_type": "display_data"
    },
    {
     "data": {
      "text/markdown": [
       "<span style=\"color:#33cc33\">Correct</span>"
      ],
      "text/plain": [
       "Correct"
      ]
     },
     "metadata": {},
     "output_type": "display_data"
    }
   ],
   "source": [
    "pi = 3.14159 # approximate\n",
    "diameter = 3\n",
    "\n",
    "# Create a variable called 'radius' equal to half the diameter\n",
    "radius = 0.5 * diameter\n",
    "\n",
    "# Create a variable called 'area', using the formula for the area of a circle: pi times the radius squared\n",
    "area = pi * radius ** 2\n",
    "\n",
    "# Check your answer\n",
    "q1.check()"
   ]
  },
  {
   "cell_type": "code",
   "execution_count": 6,
   "id": "54233c68",
   "metadata": {
    "execution": {
     "iopub.execute_input": "2024-01-03T17:47:15.286163Z",
     "iopub.status.busy": "2024-01-03T17:47:15.285700Z",
     "iopub.status.idle": "2024-01-03T17:47:15.290595Z",
     "shell.execute_reply": "2024-01-03T17:47:15.289236Z"
    },
    "papermill": {
     "duration": 0.020556,
     "end_time": "2024-01-03T17:47:15.293130",
     "exception": false,
     "start_time": "2024-01-03T17:47:15.272574",
     "status": "completed"
    },
    "tags": []
   },
   "outputs": [],
   "source": [
    "# Uncomment and run the lines below if you need help.\n",
    "#q1.hint()\n",
    "#q1.solution()"
   ]
  },
  {
   "cell_type": "markdown",
   "id": "31088c71",
   "metadata": {
    "papermill": {
     "duration": 0.010353,
     "end_time": "2024-01-03T17:47:15.313812",
     "exception": false,
     "start_time": "2024-01-03T17:47:15.303459",
     "status": "completed"
    },
    "tags": []
   },
   "source": [
    "<hr/>\n",
    "\n",
    "# 2.\n",
    "\n",
    "Add code to the following cell to swap variables `a` and `b` (so that `a` refers to the object previously referred to by `b` and vice versa)."
   ]
  },
  {
   "cell_type": "code",
   "execution_count": 7,
   "id": "4dad5371",
   "metadata": {
    "execution": {
     "iopub.execute_input": "2024-01-03T17:47:15.336447Z",
     "iopub.status.busy": "2024-01-03T17:47:15.336017Z",
     "iopub.status.idle": "2024-01-03T17:47:15.348063Z",
     "shell.execute_reply": "2024-01-03T17:47:15.346673Z"
    },
    "papermill": {
     "duration": 0.026383,
     "end_time": "2024-01-03T17:47:15.350604",
     "exception": false,
     "start_time": "2024-01-03T17:47:15.324221",
     "status": "completed"
    },
    "tags": []
   },
   "outputs": [
    {
     "data": {
      "application/javascript": [
       "parent.postMessage({\"jupyterEvent\": \"custom.exercise_interaction\", \"data\": {\"outcomeType\": 2, \"failureMessage\": \"`a` and `b` still have their original values.\", \"interactionType\": 1, \"questionType\": 2, \"questionId\": \"2_VariableSwap\", \"learnToolsVersion\": \"0.3.4\", \"valueTowardsCompletion\": 0.0, \"exceptionClass\": \"\", \"trace\": \"\"}}, \"*\")"
      ],
      "text/plain": [
       "<IPython.core.display.Javascript object>"
      ]
     },
     "metadata": {},
     "output_type": "display_data"
    },
    {
     "data": {
      "text/markdown": [
       "<span style=\"color:#cc3333\">Incorrect:</span> `a` and `b` still have their original values."
      ],
      "text/plain": [
       "Incorrect: `a` and `b` still have their original values."
      ]
     },
     "metadata": {},
     "output_type": "display_data"
    }
   ],
   "source": [
    "########### Setup code - don't touch this part ######################\n",
    "# If you're curious, these are examples of lists. We'll talk about \n",
    "# them in depth a few lessons from now. For now, just know that they're\n",
    "# yet another type of Python object, like int or float.\n",
    "a = [1, 2, 3]\n",
    "b = [3, 2, 1]\n",
    "q2.store_original_ids()\n",
    "######################################################################\n",
    "\n",
    "# Your code goes here. Swap the values to which a and b refer.\n",
    "# If you get stuck, you can always uncomment one or both of the lines in\n",
    "# the next cell for a hint, or to peek at the solution.\n",
    "\n",
    "######################################################################\n",
    "\n",
    "# Check your answer\n",
    "q2.check()"
   ]
  },
  {
   "cell_type": "code",
   "execution_count": 8,
   "id": "d5d0916a",
   "metadata": {
    "execution": {
     "iopub.execute_input": "2024-01-03T17:47:15.373360Z",
     "iopub.status.busy": "2024-01-03T17:47:15.372933Z",
     "iopub.status.idle": "2024-01-03T17:47:15.377958Z",
     "shell.execute_reply": "2024-01-03T17:47:15.376515Z"
    },
    "papermill": {
     "duration": 0.019695,
     "end_time": "2024-01-03T17:47:15.380603",
     "exception": false,
     "start_time": "2024-01-03T17:47:15.360908",
     "status": "completed"
    },
    "tags": []
   },
   "outputs": [],
   "source": [
    "#q2.hint()"
   ]
  },
  {
   "cell_type": "code",
   "execution_count": 9,
   "id": "ff5cd63e",
   "metadata": {
    "execution": {
     "iopub.execute_input": "2024-01-03T17:47:15.404217Z",
     "iopub.status.busy": "2024-01-03T17:47:15.403761Z",
     "iopub.status.idle": "2024-01-03T17:47:15.415411Z",
     "shell.execute_reply": "2024-01-03T17:47:15.413906Z"
    },
    "papermill": {
     "duration": 0.026662,
     "end_time": "2024-01-03T17:47:15.418046",
     "exception": false,
     "start_time": "2024-01-03T17:47:15.391384",
     "status": "completed"
    },
    "tags": []
   },
   "outputs": [
    {
     "data": {
      "application/javascript": [
       "parent.postMessage({\"jupyterEvent\": \"custom.exercise_interaction\", \"data\": {\"interactionType\": 3, \"questionType\": 2, \"questionId\": \"2_VariableSwap\", \"learnToolsVersion\": \"0.3.4\", \"valueTowardsCompletion\": 0.0, \"failureMessage\": \"\", \"exceptionClass\": \"\", \"trace\": \"\", \"outcomeType\": 4}}, \"*\")"
      ],
      "text/plain": [
       "<IPython.core.display.Javascript object>"
      ]
     },
     "metadata": {},
     "output_type": "display_data"
    },
    {
     "data": {
      "text/markdown": [
       "<span style=\"color:#33cc99\">Solution:</span> The most straightforward solution is to use a third variable to temporarily store one of the old values. e.g.:\n",
       "\n",
       "    tmp = a\n",
       "    a = b\n",
       "    b = tmp\n",
       "\n",
       "If you've read lots of Python code, you might have seen the following trick to swap two variables in one line:\n",
       "\n",
       "    a, b = b, a\n",
       "\n",
       "We'll demystify this bit of Python magic later when we talk about *tuples*."
      ],
      "text/plain": [
       "Solution: The most straightforward solution is to use a third variable to temporarily store one of the old values. e.g.:\n",
       "\n",
       "    tmp = a\n",
       "    a = b\n",
       "    b = tmp\n",
       "\n",
       "If you've read lots of Python code, you might have seen the following trick to swap two variables in one line:\n",
       "\n",
       "    a, b = b, a\n",
       "\n",
       "We'll demystify this bit of Python magic later when we talk about *tuples*."
      ]
     },
     "metadata": {},
     "output_type": "display_data"
    }
   ],
   "source": [
    "q2.solution()"
   ]
  },
  {
   "cell_type": "markdown",
   "id": "382e8f2a",
   "metadata": {
    "papermill": {
     "duration": 0.010563,
     "end_time": "2024-01-03T17:47:15.439868",
     "exception": false,
     "start_time": "2024-01-03T17:47:15.429305",
     "status": "completed"
    },
    "tags": []
   },
   "source": [
    "<hr/>\n",
    "\n",
    "# 3a.\n",
    "\n",
    "Add parentheses to the following expression so that it evaluates to 1."
   ]
  },
  {
   "cell_type": "code",
   "execution_count": 10,
   "id": "47de1980",
   "metadata": {
    "execution": {
     "iopub.execute_input": "2024-01-03T17:47:15.463807Z",
     "iopub.status.busy": "2024-01-03T17:47:15.463316Z",
     "iopub.status.idle": "2024-01-03T17:47:15.471747Z",
     "shell.execute_reply": "2024-01-03T17:47:15.470482Z"
    },
    "papermill": {
     "duration": 0.023429,
     "end_time": "2024-01-03T17:47:15.474256",
     "exception": false,
     "start_time": "2024-01-03T17:47:15.450827",
     "status": "completed"
    },
    "tags": []
   },
   "outputs": [
    {
     "data": {
      "text/plain": [
       "1"
      ]
     },
     "execution_count": 10,
     "metadata": {},
     "output_type": "execute_result"
    }
   ],
   "source": [
    "(5 - 3 )// 2"
   ]
  },
  {
   "cell_type": "code",
   "execution_count": 11,
   "id": "2d3af1a6",
   "metadata": {
    "execution": {
     "iopub.execute_input": "2024-01-03T17:47:15.498530Z",
     "iopub.status.busy": "2024-01-03T17:47:15.498101Z",
     "iopub.status.idle": "2024-01-03T17:47:15.503426Z",
     "shell.execute_reply": "2024-01-03T17:47:15.502214Z"
    },
    "papermill": {
     "duration": 0.020291,
     "end_time": "2024-01-03T17:47:15.505864",
     "exception": false,
     "start_time": "2024-01-03T17:47:15.485573",
     "status": "completed"
    },
    "tags": []
   },
   "outputs": [],
   "source": [
    "#q3.a.hint()"
   ]
  },
  {
   "cell_type": "code",
   "execution_count": 12,
   "id": "bfeaebac",
   "metadata": {
    "execution": {
     "iopub.execute_input": "2024-01-03T17:47:15.530566Z",
     "iopub.status.busy": "2024-01-03T17:47:15.530053Z",
     "iopub.status.idle": "2024-01-03T17:47:15.538699Z",
     "shell.execute_reply": "2024-01-03T17:47:15.537802Z"
    },
    "papermill": {
     "duration": 0.023798,
     "end_time": "2024-01-03T17:47:15.540879",
     "exception": false,
     "start_time": "2024-01-03T17:47:15.517081",
     "status": "completed"
    },
    "tags": []
   },
   "outputs": [
    {
     "data": {
      "application/javascript": [
       "parent.postMessage({\"jupyterEvent\": \"custom.exercise_interaction\", \"data\": {\"interactionType\": 3, \"questionType\": 4, \"questionId\": \"3.1_ArithmeticParensEasy\", \"learnToolsVersion\": \"0.3.4\", \"valueTowardsCompletion\": 0.0, \"failureMessage\": \"\", \"exceptionClass\": \"\", \"trace\": \"\", \"outcomeType\": 4}}, \"*\")"
      ],
      "text/plain": [
       "<IPython.core.display.Javascript object>"
      ]
     },
     "metadata": {},
     "output_type": "display_data"
    },
    {
     "data": {
      "text/markdown": [
       "<span style=\"color:#33cc99\">Solution:</span> \n",
       "```python\n",
       "(5 - 3) // 2\n",
       "```"
      ],
      "text/plain": [
       "Solution: \n",
       "```python\n",
       "(5 - 3) // 2\n",
       "```"
      ]
     },
     "metadata": {},
     "output_type": "display_data"
    }
   ],
   "source": [
    "# Check your answer (Run this code cell to receive credit!)\n",
    "q3.a.solution()"
   ]
  },
  {
   "cell_type": "markdown",
   "id": "21e0a42a",
   "metadata": {
    "papermill": {
     "duration": 0.011496,
     "end_time": "2024-01-03T17:47:15.565060",
     "exception": false,
     "start_time": "2024-01-03T17:47:15.553564",
     "status": "completed"
    },
    "tags": []
   },
   "source": [
    "# 3b.  <span title=\"A bit spicy\" style=\"color: darkgreen \">🌶️</span>\n",
    "\n",
    "<small>Questions, like this one, marked a spicy pepper are a bit harder.</small>\n",
    "\n",
    "Add parentheses to the following expression so that it evaluates to 0."
   ]
  },
  {
   "cell_type": "code",
   "execution_count": 13,
   "id": "f880aac4",
   "metadata": {
    "execution": {
     "iopub.execute_input": "2024-01-03T17:47:15.590146Z",
     "iopub.status.busy": "2024-01-03T17:47:15.589710Z",
     "iopub.status.idle": "2024-01-03T17:47:15.597013Z",
     "shell.execute_reply": "2024-01-03T17:47:15.595600Z"
    },
    "papermill": {
     "duration": 0.023834,
     "end_time": "2024-01-03T17:47:15.600452",
     "exception": false,
     "start_time": "2024-01-03T17:47:15.576618",
     "status": "completed"
    },
    "tags": []
   },
   "outputs": [
    {
     "data": {
      "text/plain": [
       "2"
      ]
     },
     "execution_count": 13,
     "metadata": {},
     "output_type": "execute_result"
    }
   ],
   "source": [
    "8 - (3 * 2) - 1 + 1"
   ]
  },
  {
   "cell_type": "code",
   "execution_count": 14,
   "id": "6ca4e66e",
   "metadata": {
    "execution": {
     "iopub.execute_input": "2024-01-03T17:47:15.626525Z",
     "iopub.status.busy": "2024-01-03T17:47:15.625436Z",
     "iopub.status.idle": "2024-01-03T17:47:15.631452Z",
     "shell.execute_reply": "2024-01-03T17:47:15.630353Z"
    },
    "papermill": {
     "duration": 0.02213,
     "end_time": "2024-01-03T17:47:15.634407",
     "exception": false,
     "start_time": "2024-01-03T17:47:15.612277",
     "status": "completed"
    },
    "tags": []
   },
   "outputs": [],
   "source": [
    "#q3.b.hint()"
   ]
  },
  {
   "cell_type": "code",
   "execution_count": 15,
   "id": "43a15d0c",
   "metadata": {
    "execution": {
     "iopub.execute_input": "2024-01-03T17:47:15.660962Z",
     "iopub.status.busy": "2024-01-03T17:47:15.659813Z",
     "iopub.status.idle": "2024-01-03T17:47:15.670356Z",
     "shell.execute_reply": "2024-01-03T17:47:15.669003Z"
    },
    "papermill": {
     "duration": 0.026593,
     "end_time": "2024-01-03T17:47:15.673076",
     "exception": false,
     "start_time": "2024-01-03T17:47:15.646483",
     "status": "completed"
    },
    "tags": []
   },
   "outputs": [
    {
     "data": {
      "application/javascript": [
       "parent.postMessage({\"jupyterEvent\": \"custom.exercise_interaction\", \"data\": {\"interactionType\": 3, \"questionType\": 4, \"questionId\": \"3.2_ArithmeticParensHard\", \"learnToolsVersion\": \"0.3.4\", \"valueTowardsCompletion\": 0.0, \"failureMessage\": \"\", \"exceptionClass\": \"\", \"trace\": \"\", \"outcomeType\": 4}}, \"*\")"
      ],
      "text/plain": [
       "<IPython.core.display.Javascript object>"
      ]
     },
     "metadata": {},
     "output_type": "display_data"
    },
    {
     "data": {
      "text/markdown": [
       "<span style=\"color:#33cc99\">Solution:</span> `(8 - 3) * (2 - (1 + 1))` is one solution. There may be others."
      ],
      "text/plain": [
       "Solution: `(8 - 3) * (2 - (1 + 1))` is one solution. There may be others."
      ]
     },
     "metadata": {},
     "output_type": "display_data"
    }
   ],
   "source": [
    "# Check your answer (Run this code cell to receive credit!)\n",
    "q3.b.solution()"
   ]
  },
  {
   "cell_type": "markdown",
   "id": "ce79b585",
   "metadata": {
    "papermill": {
     "duration": 0.011921,
     "end_time": "2024-01-03T17:47:15.696869",
     "exception": false,
     "start_time": "2024-01-03T17:47:15.684948",
     "status": "completed"
    },
    "tags": []
   },
   "source": [
    "<hr/>\n",
    "\n",
    "# 4. \n",
    "Alice, Bob and Carol have agreed to pool their Halloween candy and split it evenly among themselves.\n",
    "For the sake of their friendship, any candies left over will be smashed. For example, if they collectively\n",
    "bring home 91 candies, they'll take 30 each and smash 1.\n",
    "\n",
    "Write an arithmetic expression below to calculate how many candies they must smash for a given haul."
   ]
  },
  {
   "cell_type": "code",
   "execution_count": 16,
   "id": "7f30eda9",
   "metadata": {
    "execution": {
     "iopub.execute_input": "2024-01-03T17:47:15.724297Z",
     "iopub.status.busy": "2024-01-03T17:47:15.723879Z",
     "iopub.status.idle": "2024-01-03T17:47:15.735486Z",
     "shell.execute_reply": "2024-01-03T17:47:15.734120Z"
    },
    "papermill": {
     "duration": 0.028642,
     "end_time": "2024-01-03T17:47:15.738190",
     "exception": false,
     "start_time": "2024-01-03T17:47:15.709548",
     "status": "completed"
    },
    "tags": []
   },
   "outputs": [
    {
     "data": {
      "application/javascript": [
       "parent.postMessage({\"jupyterEvent\": \"custom.exercise_interaction\", \"data\": {\"outcomeType\": 1, \"valueTowardsCompletion\": 0.25, \"interactionType\": 1, \"questionType\": 1, \"questionId\": \"4_CandySplitting\", \"learnToolsVersion\": \"0.3.4\", \"failureMessage\": \"\", \"exceptionClass\": \"\", \"trace\": \"\"}}, \"*\")"
      ],
      "text/plain": [
       "<IPython.core.display.Javascript object>"
      ]
     },
     "metadata": {},
     "output_type": "display_data"
    },
    {
     "data": {
      "text/markdown": [
       "<span style=\"color:#33cc33\">Correct</span>"
      ],
      "text/plain": [
       "Correct"
      ]
     },
     "metadata": {},
     "output_type": "display_data"
    }
   ],
   "source": [
    "# Variables representing the number of candies collected by alice, bob, and carol\n",
    "alice_candies = 121\n",
    "bob_candies = 77\n",
    "carol_candies = 109\n",
    "\n",
    "# Your code goes here! Replace the right-hand side of this assignment with an expression\n",
    "# involving alice_candies, bob_candies, and carol_candies\n",
    "to_smash = (alice_candies + bob_candies + carol_candies) % 3\n",
    "\n",
    "# Check your answer\n",
    "q4.check()"
   ]
  },
  {
   "cell_type": "code",
   "execution_count": 17,
   "id": "f971af1b",
   "metadata": {
    "execution": {
     "iopub.execute_input": "2024-01-03T17:47:15.766564Z",
     "iopub.status.busy": "2024-01-03T17:47:15.765762Z",
     "iopub.status.idle": "2024-01-03T17:47:15.771558Z",
     "shell.execute_reply": "2024-01-03T17:47:15.770284Z"
    },
    "papermill": {
     "duration": 0.023561,
     "end_time": "2024-01-03T17:47:15.774609",
     "exception": false,
     "start_time": "2024-01-03T17:47:15.751048",
     "status": "completed"
    },
    "tags": []
   },
   "outputs": [],
   "source": [
    "#q4.hint()\n",
    "#q4.solution()"
   ]
  },
  {
   "cell_type": "markdown",
   "id": "3bba005d",
   "metadata": {
    "papermill": {
     "duration": 0.01271,
     "end_time": "2024-01-03T17:47:15.801303",
     "exception": false,
     "start_time": "2024-01-03T17:47:15.788593",
     "status": "completed"
    },
    "tags": []
   },
   "source": [
    "# Keep Going\n",
    "\n",
    "Next up, you'll **[learn to write new functions and understand functions others write](https://www.kaggle.com/colinmorris/functions-and-getting-help)**. This will make you at least 10 times more productive as a Python programmer. "
   ]
  },
  {
   "cell_type": "markdown",
   "id": "d97e8b3e",
   "metadata": {
    "papermill": {
     "duration": 0.012848,
     "end_time": "2024-01-03T17:47:15.827709",
     "exception": false,
     "start_time": "2024-01-03T17:47:15.814861",
     "status": "completed"
    },
    "tags": []
   },
   "source": [
    "---\n",
    "\n",
    "\n",
    "\n",
    "\n",
    "*Have questions or comments? Visit the [course discussion forum](https://www.kaggle.com/learn/python/discussion) to chat with other learners.*"
   ]
  }
 ],
 "metadata": {
  "kaggle": {
   "accelerator": "none",
   "dataSources": [],
   "isGpuEnabled": false,
   "isInternetEnabled": false,
   "language": "python",
   "sourceType": "notebook"
  },
  "kernelspec": {
   "display_name": "Python 3",
   "language": "python",
   "name": "python3"
  },
  "language_info": {
   "codemirror_mode": {
    "name": "ipython",
    "version": 3
   },
   "file_extension": ".py",
   "mimetype": "text/x-python",
   "name": "python",
   "nbconvert_exporter": "python",
   "pygments_lexer": "ipython3",
   "version": "3.10.12"
  },
  "learntools_metadata": {
   "lesson_index": 0,
   "type": "exercise"
  },
  "papermill": {
   "default_parameters": {},
   "duration": 5.930054,
   "end_time": "2024-01-03T17:47:16.464794",
   "environment_variables": {},
   "exception": null,
   "input_path": "__notebook__.ipynb",
   "output_path": "__notebook__.ipynb",
   "parameters": {},
   "start_time": "2024-01-03T17:47:10.534740",
   "version": "2.4.0"
  }
 },
 "nbformat": 4,
 "nbformat_minor": 5
}
