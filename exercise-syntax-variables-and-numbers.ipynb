{
 "cells": [
  {
   "cell_type": "markdown",
   "id": "0cf77b22",
   "metadata": {
    "papermill": {
     "duration": 0.006154,
     "end_time": "2024-01-05T06:55:35.517126",
     "exception": false,
     "start_time": "2024-01-05T06:55:35.510972",
     "status": "completed"
    },
    "tags": []
   },
   "source": [
    "**This notebook is an exercise in the [Python](https://www.kaggle.com/learn/python) course.  You can reference the tutorial at [this link](https://www.kaggle.com/colinmorris/hello-python).**\n",
    "\n",
    "---\n"
   ]
  },
  {
   "cell_type": "markdown",
   "id": "e4a5e463",
   "metadata": {
    "papermill": {
     "duration": 0.005483,
     "end_time": "2024-01-05T06:55:35.528256",
     "exception": false,
     "start_time": "2024-01-05T06:55:35.522773",
     "status": "completed"
    },
    "tags": []
   },
   "source": [
    "Welcome to your first set of Python coding problems.  If this is your first time using Kaggle Notebooks, welcome! \n",
    "\n",
    "Notebooks are composed of blocks (called \"cells\") of text and code. Each of these is editable, though you'll mainly be editing the code cells to answer some questions.\n",
    "\n",
    "To get started, try running the code cell below (by pressing the ► button, or clicking on the cell and pressing ctrl+enter on your keyboard)."
   ]
  },
  {
   "cell_type": "code",
   "execution_count": null,
   "id": "d6a28abc",
   "metadata": {
    "papermill": {
     "duration": 0.005588,
     "end_time": "2024-01-05T06:55:35.539432",
     "exception": false,
     "start_time": "2024-01-05T06:55:35.533844",
     "status": "completed"
    },
    "tags": []
   },
   "outputs": [],
   "source": []
  },
  {
   "cell_type": "code",
   "execution_count": null,
   "id": "4b05ced8",
   "metadata": {
    "papermill": {
     "duration": 0.005533,
     "end_time": "2024-01-05T06:55:35.550528",
     "exception": false,
     "start_time": "2024-01-05T06:55:35.544995",
     "status": "completed"
    },
    "tags": []
   },
   "outputs": [],
   "source": []
  },
  {
   "cell_type": "code",
   "execution_count": 1,
   "id": "2ae7ed46",
   "metadata": {
    "execution": {
     "iopub.execute_input": "2024-01-05T06:55:35.563430Z",
     "iopub.status.busy": "2024-01-05T06:55:35.562998Z",
     "iopub.status.idle": "2024-01-05T06:55:35.574178Z",
     "shell.execute_reply": "2024-01-05T06:55:35.572937Z"
    },
    "papermill": {
     "duration": 0.020082,
     "end_time": "2024-01-05T06:55:35.576130",
     "exception": false,
     "start_time": "2024-01-05T06:55:35.556048",
     "status": "completed"
    },
    "tags": []
   },
   "outputs": [
    {
     "name": "stdout",
     "output_type": "stream",
     "text": [
      "You've successfully run some Python code\n",
      "Congratulations!\n",
      "I can't wait to become a pro in Python\n",
      "Everyday is a Learning Day\n",
      "Learning python will enable me study Data Science\n"
     ]
    }
   ],
   "source": [
    "print(\"You've successfully run some Python code\")\n",
    "print(\"Congratulations!\")\n",
    "print(\"I can't wait to become a pro in Python\")\n",
    "print(\"Everyday is a Learning Day\")\n",
    "print(\"Learning python will enable me study Data Science\")\n"
   ]
  },
  {
   "cell_type": "code",
   "execution_count": null,
   "id": "f3e6d19f",
   "metadata": {
    "papermill": {
     "duration": 0.005471,
     "end_time": "2024-01-05T06:55:35.587518",
     "exception": false,
     "start_time": "2024-01-05T06:55:35.582047",
     "status": "completed"
    },
    "tags": []
   },
   "outputs": [],
   "source": []
  },
  {
   "cell_type": "markdown",
   "id": "074a0df4",
   "metadata": {
    "papermill": {
     "duration": 0.005437,
     "end_time": "2024-01-05T06:55:35.598663",
     "exception": false,
     "start_time": "2024-01-05T06:55:35.593226",
     "status": "completed"
    },
    "tags": []
   },
   "source": [
    "Try adding another line of code in the cell above and re-running it. \n",
    "\n",
    "Now let's get a little fancier:  Add a new code cell by clicking on an existing code cell, hitting the escape key, and then hitting the `a` or `b` key.  The `a` key will add a cell above the current cell, and `b` adds a cell below.\n",
    "\n",
    "Great! Now you know how to use Notebooks.\n",
    "\n",
    "Each hands-on exercise starts by setting up our feedback and code checking mechanism. Run the code cell below to do that. Then you'll be ready to move on to question 0."
   ]
  },
  {
   "cell_type": "code",
   "execution_count": 2,
   "id": "ba2524d3",
   "metadata": {
    "_kg_hide-input": true,
    "_kg_hide-output": true,
    "execution": {
     "iopub.execute_input": "2024-01-05T06:55:35.611504Z",
     "iopub.status.busy": "2024-01-05T06:55:35.611110Z",
     "iopub.status.idle": "2024-01-05T06:55:35.961176Z",
     "shell.execute_reply": "2024-01-05T06:55:35.960274Z"
    },
    "papermill": {
     "duration": 0.359317,
     "end_time": "2024-01-05T06:55:35.963523",
     "exception": false,
     "start_time": "2024-01-05T06:55:35.604206",
     "status": "completed"
    },
    "tags": []
   },
   "outputs": [
    {
     "name": "stdout",
     "output_type": "stream",
     "text": [
      "Setup complete! You're ready to start question 0.\n"
     ]
    }
   ],
   "source": [
    "from learntools.core import binder; binder.bind(globals())\n",
    "from learntools.python.ex1 import *\n",
    "print(\"Setup complete! You're ready to start question 0.\")"
   ]
  },
  {
   "cell_type": "markdown",
   "id": "5665bcff",
   "metadata": {
    "papermill": {
     "duration": 0.005469,
     "end_time": "2024-01-05T06:55:35.975241",
     "exception": false,
     "start_time": "2024-01-05T06:55:35.969772",
     "status": "completed"
    },
    "tags": []
   },
   "source": [
    "# 0.\n",
    "\n",
    "*This is a silly question intended as an introduction to the format we use for hands-on exercises throughout all Kaggle courses.*\n",
    "\n",
    "**What is your favorite color? **\n",
    "\n",
    "To complete this question, create a variable called `color` in the cell below with an appropriate value. The function call `q0.check()` (which we've already provided in the cell below) will check your answer."
   ]
  },
  {
   "cell_type": "code",
   "execution_count": 3,
   "id": "8ed9eaf2",
   "metadata": {
    "execution": {
     "iopub.execute_input": "2024-01-05T06:55:35.988861Z",
     "iopub.status.busy": "2024-01-05T06:55:35.987458Z",
     "iopub.status.idle": "2024-01-05T06:55:35.996060Z",
     "shell.execute_reply": "2024-01-05T06:55:35.995387Z"
    },
    "papermill": {
     "duration": 0.017203,
     "end_time": "2024-01-05T06:55:35.997969",
     "exception": false,
     "start_time": "2024-01-05T06:55:35.980766",
     "status": "completed"
    },
    "tags": []
   },
   "outputs": [
    {
     "name": "stdout",
     "output_type": "stream",
     "text": [
      "Blue\n"
     ]
    },
    {
     "data": {
      "application/javascript": [
       "parent.postMessage({\"jupyterEvent\": \"custom.exercise_interaction\", \"data\": {\"outcomeType\": 1, \"valueTowardsCompletion\": 0.25, \"interactionType\": 1, \"questionType\": 2, \"questionId\": \"0_ExerciseFormatTutorial\", \"learnToolsVersion\": \"0.3.4\", \"failureMessage\": \"\", \"exceptionClass\": \"\", \"trace\": \"\"}}, \"*\")"
      ],
      "text/plain": [
       "<IPython.core.display.Javascript object>"
      ]
     },
     "metadata": {},
     "output_type": "display_data"
    },
    {
     "data": {
      "text/markdown": [
       "<span style=\"color:#33cc33\">Correct:</span> What?! You got it right without needing a hint or anything? Drats. Well hey, you should still continue to the next step to get some practice asking for a hint and checking solutions. (Even though you obviously don't need any help here.)"
      ],
      "text/plain": [
       "Correct: What?! You got it right without needing a hint or anything? Drats. Well hey, you should still continue to the next step to get some practice asking for a hint and checking solutions. (Even though you obviously don't need any help here.)"
      ]
     },
     "metadata": {},
     "output_type": "display_data"
    }
   ],
   "source": [
    "# create a variable called color with an appropriate value on the line below\n",
    "# (Remember, strings in Python must be enclosed in 'single' or \"double\" quotes)\n",
    "color = \"Blue\"\n",
    "print(color)\n",
    "# Check your answer\n",
    "q0.check()"
   ]
  },
  {
   "cell_type": "markdown",
   "id": "ee6121ef",
   "metadata": {
    "papermill": {
     "duration": 0.00562,
     "end_time": "2024-01-05T06:55:36.009819",
     "exception": false,
     "start_time": "2024-01-05T06:55:36.004199",
     "status": "completed"
    },
    "tags": []
   },
   "source": [
    "Didn't get the right answer? How do you not even know your own favorite color?!\n",
    "\n",
    "Delete the `#` in the line below to make one of the lines run. You can choose between getting a hint or the full answer by choosing which line to remove the `#` from. \n",
    "\n",
    "Removing the `#` is called uncommenting, because it changes that line from a \"comment\" which Python doesn't run to code, which Python does run."
   ]
  },
  {
   "cell_type": "code",
   "execution_count": 4,
   "id": "e6c43157",
   "metadata": {
    "execution": {
     "iopub.execute_input": "2024-01-05T06:55:36.023745Z",
     "iopub.status.busy": "2024-01-05T06:55:36.023256Z",
     "iopub.status.idle": "2024-01-05T06:55:36.026773Z",
     "shell.execute_reply": "2024-01-05T06:55:36.026096Z"
    },
    "papermill": {
     "duration": 0.012781,
     "end_time": "2024-01-05T06:55:36.028501",
     "exception": false,
     "start_time": "2024-01-05T06:55:36.015720",
     "status": "completed"
    },
    "tags": []
   },
   "outputs": [],
   "source": [
    "#q0.hint()\n",
    "#q0.solution()"
   ]
  },
  {
   "cell_type": "markdown",
   "id": "702ca18b",
   "metadata": {
    "papermill": {
     "duration": 0.006338,
     "end_time": "2024-01-05T06:55:36.041026",
     "exception": false,
     "start_time": "2024-01-05T06:55:36.034688",
     "status": "completed"
    },
    "tags": []
   },
   "source": [
    "The upcoming questions work the same way. The only thing that will change are the question numbers. For the next question, you'll call `q1.check()`, `q1.hint()`, `q1.solution()`, for question 2, you'll call `q2.check()`, and so on."
   ]
  },
  {
   "cell_type": "markdown",
   "id": "56d8e51d",
   "metadata": {
    "papermill": {
     "duration": 0.006161,
     "end_time": "2024-01-05T06:55:36.053396",
     "exception": false,
     "start_time": "2024-01-05T06:55:36.047235",
     "status": "completed"
    },
    "tags": []
   },
   "source": [
    "<hr/>\n",
    "\n",
    "# 1.\n",
    "\n",
    "Complete the code below. In case it's helpful, here is the table of available arithmetic operations:\n",
    "\n",
    "\n",
    "\n",
    "| Operator     | Name           | Description                                            |\n",
    "|--------------|----------------|--------------------------------------------------------|\n",
    "| ``a + b``    | Addition       | Sum of ``a`` and ``b``                                 |\n",
    "| ``a - b``    | Subtraction    | Difference of ``a`` and ``b``                          |\n",
    "| ``a * b``    | Multiplication | Product of ``a`` and ``b``                             |\n",
    "| ``a / b``    | True division  | Quotient of ``a`` and ``b``                            |\n",
    "| ``a // b``   | Floor division | Quotient of ``a`` and ``b``, removing fractional parts |\n",
    "| ``a % b``    | Modulus        | Integer remainder after division of ``a`` by ``b``     |\n",
    "| ``a ** b``   | Exponentiation | ``a`` raised to the power of ``b``                     |\n",
    "| ``-a``       | Negation       | The negative of ``a``                                  |\n",
    "\n",
    "<span style=\"display:none\"></span>\n"
   ]
  },
  {
   "cell_type": "code",
   "execution_count": 5,
   "id": "9cc728b0",
   "metadata": {
    "execution": {
     "iopub.execute_input": "2024-01-05T06:55:36.067397Z",
     "iopub.status.busy": "2024-01-05T06:55:36.067047Z",
     "iopub.status.idle": "2024-01-05T06:55:36.074061Z",
     "shell.execute_reply": "2024-01-05T06:55:36.073433Z"
    },
    "papermill": {
     "duration": 0.016405,
     "end_time": "2024-01-05T06:55:36.075923",
     "exception": false,
     "start_time": "2024-01-05T06:55:36.059518",
     "status": "completed"
    },
    "tags": []
   },
   "outputs": [
    {
     "data": {
      "application/javascript": [
       "parent.postMessage({\"jupyterEvent\": \"custom.exercise_interaction\", \"data\": {\"outcomeType\": 1, \"valueTowardsCompletion\": 0.25, \"interactionType\": 1, \"questionType\": 1, \"questionId\": \"1_CircleArea\", \"learnToolsVersion\": \"0.3.4\", \"failureMessage\": \"\", \"exceptionClass\": \"\", \"trace\": \"\"}}, \"*\")"
      ],
      "text/plain": [
       "<IPython.core.display.Javascript object>"
      ]
     },
     "metadata": {},
     "output_type": "display_data"
    },
    {
     "data": {
      "text/markdown": [
       "<span style=\"color:#33cc33\">Correct</span>"
      ],
      "text/plain": [
       "Correct"
      ]
     },
     "metadata": {},
     "output_type": "display_data"
    }
   ],
   "source": [
    "pi = 3.14159 # approximate\n",
    "diameter = 3\n",
    "\n",
    "# Create a variable called 'radius' equal to half the diameter\n",
    "radius = 0.5 * diameter\n",
    "\n",
    "# Create a variable called 'area', using the formula for the area of a circle: pi times the radius squared\n",
    "area = pi * radius ** 2\n",
    "\n",
    "# Check your answer\n",
    "q1.check()"
   ]
  },
  {
   "cell_type": "code",
   "execution_count": 6,
   "id": "54f1c534",
   "metadata": {
    "execution": {
     "iopub.execute_input": "2024-01-05T06:55:36.090606Z",
     "iopub.status.busy": "2024-01-05T06:55:36.090203Z",
     "iopub.status.idle": "2024-01-05T06:55:36.094492Z",
     "shell.execute_reply": "2024-01-05T06:55:36.093496Z"
    },
    "papermill": {
     "duration": 0.01386,
     "end_time": "2024-01-05T06:55:36.096323",
     "exception": false,
     "start_time": "2024-01-05T06:55:36.082463",
     "status": "completed"
    },
    "tags": []
   },
   "outputs": [],
   "source": [
    "# Uncomment and run the lines below if you need help.\n",
    "#q1.hint()\n",
    "#q1.solution()"
   ]
  },
  {
   "cell_type": "markdown",
   "id": "8f4a56ca",
   "metadata": {
    "papermill": {
     "duration": 0.006045,
     "end_time": "2024-01-05T06:55:36.109072",
     "exception": false,
     "start_time": "2024-01-05T06:55:36.103027",
     "status": "completed"
    },
    "tags": []
   },
   "source": [
    "<hr/>\n",
    "\n",
    "# 2.\n",
    "\n",
    "Add code to the following cell to swap variables `a` and `b` (so that `a` refers to the object previously referred to by `b` and vice versa)."
   ]
  },
  {
   "cell_type": "code",
   "execution_count": 7,
   "id": "1a709b94",
   "metadata": {
    "execution": {
     "iopub.execute_input": "2024-01-05T06:55:36.123727Z",
     "iopub.status.busy": "2024-01-05T06:55:36.123207Z",
     "iopub.status.idle": "2024-01-05T06:55:36.133395Z",
     "shell.execute_reply": "2024-01-05T06:55:36.131788Z"
    },
    "papermill": {
     "duration": 0.020397,
     "end_time": "2024-01-05T06:55:36.135798",
     "exception": false,
     "start_time": "2024-01-05T06:55:36.115401",
     "status": "completed"
    },
    "tags": []
   },
   "outputs": [
    {
     "data": {
      "application/javascript": [
       "parent.postMessage({\"jupyterEvent\": \"custom.exercise_interaction\", \"data\": {\"outcomeType\": 1, \"valueTowardsCompletion\": 0.25, \"interactionType\": 1, \"questionType\": 2, \"questionId\": \"2_VariableSwap\", \"learnToolsVersion\": \"0.3.4\", \"failureMessage\": \"\", \"exceptionClass\": \"\", \"trace\": \"\"}}, \"*\")"
      ],
      "text/plain": [
       "<IPython.core.display.Javascript object>"
      ]
     },
     "metadata": {},
     "output_type": "display_data"
    },
    {
     "data": {
      "text/markdown": [
       "<span style=\"color:#33cc33\">Correct:</span> \n",
       "\n",
       "The most straightforward solution is to use a third variable to temporarily store one of the old values. e.g.:\n",
       "\n",
       "    tmp = a\n",
       "    a = b\n",
       "    b = tmp\n",
       "\n",
       "If you've read lots of Python code, you might have seen the following trick to swap two variables in one line:\n",
       "\n",
       "    a, b = b, a\n",
       "\n",
       "We'll demystify this bit of Python magic later when we talk about *tuples*."
      ],
      "text/plain": [
       "Correct: \n",
       "\n",
       "The most straightforward solution is to use a third variable to temporarily store one of the old values. e.g.:\n",
       "\n",
       "    tmp = a\n",
       "    a = b\n",
       "    b = tmp\n",
       "\n",
       "If you've read lots of Python code, you might have seen the following trick to swap two variables in one line:\n",
       "\n",
       "    a, b = b, a\n",
       "\n",
       "We'll demystify this bit of Python magic later when we talk about *tuples*."
      ]
     },
     "metadata": {},
     "output_type": "display_data"
    }
   ],
   "source": [
    "########### Setup code - don't touch this part ######################\n",
    "# If you're curious, these are examples of lists. We'll talk about \n",
    "# them in depth a few lessons from now. For now, just know that they're\n",
    "# yet another type of Python object, like int or float.\n",
    "a = [1, 2, 3]\n",
    "b = [3, 2, 1]\n",
    "q2.store_original_ids()\n",
    "temp = a\n",
    "a = b\n",
    "b = temp\n",
    "\n",
    "######################################################################\n",
    "\n",
    "# Your code goes here. Swap the values to which a and b refer.\n",
    "# If you get stuck, you can always uncomment one or both of the lines in\n",
    "# the next cell for a hint, or to peek at the solution.\n",
    "\n",
    "######################################################################\n",
    "\n",
    "# Check your answer\n",
    "q2.check()"
   ]
  },
  {
   "cell_type": "code",
   "execution_count": 8,
   "id": "b97546a2",
   "metadata": {
    "execution": {
     "iopub.execute_input": "2024-01-05T06:55:36.152419Z",
     "iopub.status.busy": "2024-01-05T06:55:36.151175Z",
     "iopub.status.idle": "2024-01-05T06:55:36.156698Z",
     "shell.execute_reply": "2024-01-05T06:55:36.155463Z"
    },
    "papermill": {
     "duration": 0.016127,
     "end_time": "2024-01-05T06:55:36.159194",
     "exception": false,
     "start_time": "2024-01-05T06:55:36.143067",
     "status": "completed"
    },
    "tags": []
   },
   "outputs": [],
   "source": [
    "#q2.hint()"
   ]
  },
  {
   "cell_type": "code",
   "execution_count": 9,
   "id": "1251e950",
   "metadata": {
    "execution": {
     "iopub.execute_input": "2024-01-05T06:55:36.174415Z",
     "iopub.status.busy": "2024-01-05T06:55:36.174045Z",
     "iopub.status.idle": "2024-01-05T06:55:36.182887Z",
     "shell.execute_reply": "2024-01-05T06:55:36.181537Z"
    },
    "papermill": {
     "duration": 0.01875,
     "end_time": "2024-01-05T06:55:36.184917",
     "exception": false,
     "start_time": "2024-01-05T06:55:36.166167",
     "status": "completed"
    },
    "tags": []
   },
   "outputs": [
    {
     "data": {
      "application/javascript": [
       "parent.postMessage({\"jupyterEvent\": \"custom.exercise_interaction\", \"data\": {\"interactionType\": 3, \"questionType\": 2, \"questionId\": \"2_VariableSwap\", \"learnToolsVersion\": \"0.3.4\", \"valueTowardsCompletion\": 0.0, \"failureMessage\": \"\", \"exceptionClass\": \"\", \"trace\": \"\", \"outcomeType\": 4}}, \"*\")"
      ],
      "text/plain": [
       "<IPython.core.display.Javascript object>"
      ]
     },
     "metadata": {},
     "output_type": "display_data"
    },
    {
     "data": {
      "text/markdown": [
       "<span style=\"color:#33cc99\">Solution:</span> The most straightforward solution is to use a third variable to temporarily store one of the old values. e.g.:\n",
       "\n",
       "    tmp = a\n",
       "    a = b\n",
       "    b = tmp\n",
       "\n",
       "If you've read lots of Python code, you might have seen the following trick to swap two variables in one line:\n",
       "\n",
       "    a, b = b, a\n",
       "\n",
       "We'll demystify this bit of Python magic later when we talk about *tuples*."
      ],
      "text/plain": [
       "Solution: The most straightforward solution is to use a third variable to temporarily store one of the old values. e.g.:\n",
       "\n",
       "    tmp = a\n",
       "    a = b\n",
       "    b = tmp\n",
       "\n",
       "If you've read lots of Python code, you might have seen the following trick to swap two variables in one line:\n",
       "\n",
       "    a, b = b, a\n",
       "\n",
       "We'll demystify this bit of Python magic later when we talk about *tuples*."
      ]
     },
     "metadata": {},
     "output_type": "display_data"
    }
   ],
   "source": [
    "q2.solution()"
   ]
  },
  {
   "cell_type": "markdown",
   "id": "6fb33256",
   "metadata": {
    "papermill": {
     "duration": 0.007192,
     "end_time": "2024-01-05T06:55:36.199629",
     "exception": false,
     "start_time": "2024-01-05T06:55:36.192437",
     "status": "completed"
    },
    "tags": []
   },
   "source": [
    "<hr/>\n",
    "\n",
    "# 3a.\n",
    "\n",
    "Add parentheses to the following expression so that it evaluates to 1."
   ]
  },
  {
   "cell_type": "code",
   "execution_count": 10,
   "id": "110639ea",
   "metadata": {
    "execution": {
     "iopub.execute_input": "2024-01-05T06:55:36.215330Z",
     "iopub.status.busy": "2024-01-05T06:55:36.214761Z",
     "iopub.status.idle": "2024-01-05T06:55:36.221075Z",
     "shell.execute_reply": "2024-01-05T06:55:36.219906Z"
    },
    "papermill": {
     "duration": 0.016645,
     "end_time": "2024-01-05T06:55:36.223386",
     "exception": false,
     "start_time": "2024-01-05T06:55:36.206741",
     "status": "completed"
    },
    "tags": []
   },
   "outputs": [
    {
     "data": {
      "text/plain": [
       "1"
      ]
     },
     "execution_count": 10,
     "metadata": {},
     "output_type": "execute_result"
    }
   ],
   "source": [
    "(5 - 3 )// 2"
   ]
  },
  {
   "cell_type": "code",
   "execution_count": 11,
   "id": "aa4f6107",
   "metadata": {
    "execution": {
     "iopub.execute_input": "2024-01-05T06:55:36.239369Z",
     "iopub.status.busy": "2024-01-05T06:55:36.238769Z",
     "iopub.status.idle": "2024-01-05T06:55:36.242229Z",
     "shell.execute_reply": "2024-01-05T06:55:36.241584Z"
    },
    "papermill": {
     "duration": 0.01353,
     "end_time": "2024-01-05T06:55:36.244126",
     "exception": false,
     "start_time": "2024-01-05T06:55:36.230596",
     "status": "completed"
    },
    "tags": []
   },
   "outputs": [],
   "source": [
    "#q3.a.hint()"
   ]
  },
  {
   "cell_type": "code",
   "execution_count": 12,
   "id": "95ff55a0",
   "metadata": {
    "execution": {
     "iopub.execute_input": "2024-01-05T06:55:36.261009Z",
     "iopub.status.busy": "2024-01-05T06:55:36.260443Z",
     "iopub.status.idle": "2024-01-05T06:55:36.267237Z",
     "shell.execute_reply": "2024-01-05T06:55:36.266339Z"
    },
    "papermill": {
     "duration": 0.017787,
     "end_time": "2024-01-05T06:55:36.269623",
     "exception": false,
     "start_time": "2024-01-05T06:55:36.251836",
     "status": "completed"
    },
    "tags": []
   },
   "outputs": [
    {
     "data": {
      "application/javascript": [
       "parent.postMessage({\"jupyterEvent\": \"custom.exercise_interaction\", \"data\": {\"interactionType\": 3, \"questionType\": 4, \"questionId\": \"3.1_ArithmeticParensEasy\", \"learnToolsVersion\": \"0.3.4\", \"valueTowardsCompletion\": 0.0, \"failureMessage\": \"\", \"exceptionClass\": \"\", \"trace\": \"\", \"outcomeType\": 4}}, \"*\")"
      ],
      "text/plain": [
       "<IPython.core.display.Javascript object>"
      ]
     },
     "metadata": {},
     "output_type": "display_data"
    },
    {
     "data": {
      "text/markdown": [
       "<span style=\"color:#33cc99\">Solution:</span> \n",
       "```python\n",
       "(5 - 3) // 2\n",
       "```"
      ],
      "text/plain": [
       "Solution: \n",
       "```python\n",
       "(5 - 3) // 2\n",
       "```"
      ]
     },
     "metadata": {},
     "output_type": "display_data"
    }
   ],
   "source": [
    "# Check your answer (Run this code cell to receive credit!)\n",
    "q3.a.solution()"
   ]
  },
  {
   "cell_type": "markdown",
   "id": "03b36864",
   "metadata": {
    "papermill": {
     "duration": 0.007351,
     "end_time": "2024-01-05T06:55:36.284684",
     "exception": false,
     "start_time": "2024-01-05T06:55:36.277333",
     "status": "completed"
    },
    "tags": []
   },
   "source": [
    "# 3b.  <span title=\"A bit spicy\" style=\"color: darkgreen \">🌶️</span>\n",
    "\n",
    "<small>Questions, like this one, marked a spicy pepper are a bit harder.</small>\n",
    "\n",
    "Add parentheses to the following expression so that it evaluates to 0."
   ]
  },
  {
   "cell_type": "code",
   "execution_count": 13,
   "id": "0c738691",
   "metadata": {
    "execution": {
     "iopub.execute_input": "2024-01-05T06:55:36.301124Z",
     "iopub.status.busy": "2024-01-05T06:55:36.300809Z",
     "iopub.status.idle": "2024-01-05T06:55:36.306574Z",
     "shell.execute_reply": "2024-01-05T06:55:36.305631Z"
    },
    "papermill": {
     "duration": 0.016157,
     "end_time": "2024-01-05T06:55:36.308517",
     "exception": false,
     "start_time": "2024-01-05T06:55:36.292360",
     "status": "completed"
    },
    "tags": []
   },
   "outputs": [
    {
     "data": {
      "text/plain": [
       "2"
      ]
     },
     "execution_count": 13,
     "metadata": {},
     "output_type": "execute_result"
    }
   ],
   "source": [
    "8 - (3 * 2) - 1 + 1"
   ]
  },
  {
   "cell_type": "code",
   "execution_count": 14,
   "id": "3872a002",
   "metadata": {
    "execution": {
     "iopub.execute_input": "2024-01-05T06:55:36.326103Z",
     "iopub.status.busy": "2024-01-05T06:55:36.325706Z",
     "iopub.status.idle": "2024-01-05T06:55:36.329996Z",
     "shell.execute_reply": "2024-01-05T06:55:36.328837Z"
    },
    "papermill": {
     "duration": 0.015122,
     "end_time": "2024-01-05T06:55:36.331891",
     "exception": false,
     "start_time": "2024-01-05T06:55:36.316769",
     "status": "completed"
    },
    "tags": []
   },
   "outputs": [],
   "source": [
    "#q3.b.hint()"
   ]
  },
  {
   "cell_type": "code",
   "execution_count": 15,
   "id": "d9b46586",
   "metadata": {
    "execution": {
     "iopub.execute_input": "2024-01-05T06:55:36.348822Z",
     "iopub.status.busy": "2024-01-05T06:55:36.348461Z",
     "iopub.status.idle": "2024-01-05T06:55:36.356132Z",
     "shell.execute_reply": "2024-01-05T06:55:36.354737Z"
    },
    "papermill": {
     "duration": 0.01854,
     "end_time": "2024-01-05T06:55:36.358341",
     "exception": false,
     "start_time": "2024-01-05T06:55:36.339801",
     "status": "completed"
    },
    "tags": []
   },
   "outputs": [
    {
     "data": {
      "application/javascript": [
       "parent.postMessage({\"jupyterEvent\": \"custom.exercise_interaction\", \"data\": {\"interactionType\": 3, \"questionType\": 4, \"questionId\": \"3.2_ArithmeticParensHard\", \"learnToolsVersion\": \"0.3.4\", \"valueTowardsCompletion\": 0.0, \"failureMessage\": \"\", \"exceptionClass\": \"\", \"trace\": \"\", \"outcomeType\": 4}}, \"*\")"
      ],
      "text/plain": [
       "<IPython.core.display.Javascript object>"
      ]
     },
     "metadata": {},
     "output_type": "display_data"
    },
    {
     "data": {
      "text/markdown": [
       "<span style=\"color:#33cc99\">Solution:</span> `(8 - 3) * (2 - (1 + 1))` is one solution. There may be others."
      ],
      "text/plain": [
       "Solution: `(8 - 3) * (2 - (1 + 1))` is one solution. There may be others."
      ]
     },
     "metadata": {},
     "output_type": "display_data"
    }
   ],
   "source": [
    "# Check your answer (Run this code cell to receive credit!)\n",
    "q3.b.solution()"
   ]
  },
  {
   "cell_type": "markdown",
   "id": "86bad178",
   "metadata": {
    "papermill": {
     "duration": 0.007351,
     "end_time": "2024-01-05T06:55:36.373857",
     "exception": false,
     "start_time": "2024-01-05T06:55:36.366506",
     "status": "completed"
    },
    "tags": []
   },
   "source": [
    "<hr/>\n",
    "\n",
    "# 4. \n",
    "Alice, Bob and Carol have agreed to pool their Halloween candy and split it evenly among themselves.\n",
    "For the sake of their friendship, any candies left over will be smashed. For example, if they collectively\n",
    "bring home 91 candies, they'll take 30 each and smash 1.\n",
    "\n",
    "Write an arithmetic expression below to calculate how many candies they must smash for a given haul."
   ]
  },
  {
   "cell_type": "code",
   "execution_count": 16,
   "id": "6391f2d6",
   "metadata": {
    "execution": {
     "iopub.execute_input": "2024-01-05T06:55:36.391110Z",
     "iopub.status.busy": "2024-01-05T06:55:36.390795Z",
     "iopub.status.idle": "2024-01-05T06:55:36.400153Z",
     "shell.execute_reply": "2024-01-05T06:55:36.399377Z"
    },
    "papermill": {
     "duration": 0.020127,
     "end_time": "2024-01-05T06:55:36.401939",
     "exception": false,
     "start_time": "2024-01-05T06:55:36.381812",
     "status": "completed"
    },
    "tags": []
   },
   "outputs": [
    {
     "data": {
      "application/javascript": [
       "parent.postMessage({\"jupyterEvent\": \"custom.exercise_interaction\", \"data\": {\"outcomeType\": 1, \"valueTowardsCompletion\": 0.25, \"interactionType\": 1, \"questionType\": 1, \"questionId\": \"4_CandySplitting\", \"learnToolsVersion\": \"0.3.4\", \"failureMessage\": \"\", \"exceptionClass\": \"\", \"trace\": \"\"}}, \"*\")"
      ],
      "text/plain": [
       "<IPython.core.display.Javascript object>"
      ]
     },
     "metadata": {},
     "output_type": "display_data"
    },
    {
     "data": {
      "text/markdown": [
       "<span style=\"color:#33cc33\">Correct</span>"
      ],
      "text/plain": [
       "Correct"
      ]
     },
     "metadata": {},
     "output_type": "display_data"
    }
   ],
   "source": [
    "# Variables representing the number of candies collected by alice, bob, and carol\n",
    "alice_candies = 121\n",
    "bob_candies = 77\n",
    "carol_candies = 109\n",
    "\n",
    "# Your code goes here! Replace the right-hand side of this assignment with an expression\n",
    "# involving alice_candies, bob_candies, and carol_candies\n",
    "to_smash = (alice_candies + bob_candies + carol_candies) % 3\n",
    "\n",
    "# Check your answer\n",
    "q4.check()"
   ]
  },
  {
   "cell_type": "code",
   "execution_count": 17,
   "id": "9e4dcc0f",
   "metadata": {
    "execution": {
     "iopub.execute_input": "2024-01-05T06:55:36.474391Z",
     "iopub.status.busy": "2024-01-05T06:55:36.473779Z",
     "iopub.status.idle": "2024-01-05T06:55:36.478128Z",
     "shell.execute_reply": "2024-01-05T06:55:36.477063Z"
    },
    "papermill": {
     "duration": 0.016238,
     "end_time": "2024-01-05T06:55:36.480423",
     "exception": false,
     "start_time": "2024-01-05T06:55:36.464185",
     "status": "completed"
    },
    "tags": []
   },
   "outputs": [],
   "source": [
    "#q4.hint()\n",
    "#q4.solution()"
   ]
  },
  {
   "cell_type": "markdown",
   "id": "7f477eb9",
   "metadata": {
    "papermill": {
     "duration": 0.007814,
     "end_time": "2024-01-05T06:55:36.496732",
     "exception": false,
     "start_time": "2024-01-05T06:55:36.488918",
     "status": "completed"
    },
    "tags": []
   },
   "source": [
    "# Keep Going\n",
    "\n",
    "Next up, you'll **[learn to write new functions and understand functions others write](https://www.kaggle.com/colinmorris/functions-and-getting-help)**. This will make you at least 10 times more productive as a Python programmer. "
   ]
  },
  {
   "cell_type": "markdown",
   "id": "f2398b11",
   "metadata": {
    "papermill": {
     "duration": 0.007768,
     "end_time": "2024-01-05T06:55:36.512533",
     "exception": false,
     "start_time": "2024-01-05T06:55:36.504765",
     "status": "completed"
    },
    "tags": []
   },
   "source": [
    "---\n",
    "\n",
    "\n",
    "\n",
    "\n",
    "*Have questions or comments? Visit the [course discussion forum](https://www.kaggle.com/learn/python/discussion) to chat with other learners.*"
   ]
  }
 ],
 "metadata": {
  "kaggle": {
   "accelerator": "none",
   "dataSources": [],
   "isGpuEnabled": false,
   "isInternetEnabled": false,
   "language": "python",
   "sourceType": "notebook"
  },
  "kernelspec": {
   "display_name": "Python 3",
   "language": "python",
   "name": "python3"
  },
  "language_info": {
   "codemirror_mode": {
    "name": "ipython",
    "version": 3
   },
   "file_extension": ".py",
   "mimetype": "text/x-python",
   "name": "python",
   "nbconvert_exporter": "python",
   "pygments_lexer": "ipython3",
   "version": "3.10.12"
  },
  "learntools_metadata": {
   "lesson_index": 0,
   "type": "exercise"
  },
  "papermill": {
   "default_parameters": {},
   "duration": 4.087133,
   "end_time": "2024-01-05T06:55:36.940784",
   "environment_variables": {},
   "exception": null,
   "input_path": "__notebook__.ipynb",
   "output_path": "__notebook__.ipynb",
   "parameters": {},
   "start_time": "2024-01-05T06:55:32.853651",
   "version": "2.4.0"
  }
 },
 "nbformat": 4,
 "nbformat_minor": 5
}
